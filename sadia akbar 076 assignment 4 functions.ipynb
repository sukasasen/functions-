{
 "cells": [
  {
   "cell_type": "code",
   "execution_count": 27,
   "id": "115bf07f-b479-4441-9db9-cb4e2e1863b4",
   "metadata": {},
   "outputs": [
    {
     "name": "stdout",
     "output_type": "stream",
     "text": [
      "Hello, Python Learner!\n"
     ]
    }
   ],
   "source": [
    "# Exercise 1: Basic Function Call\n",
    "def say_hello():\n",
    "    print(\"Hello, Python Learner!\")\n",
    "say_hello()"
   ]
  },
  {
   "cell_type": "code",
   "execution_count": 29,
   "id": "c676db79-eada-4b5a-9811-5a8e2421fe66",
   "metadata": {},
   "outputs": [
    {
     "name": "stdout",
     "output_type": "stream",
     "text": [
      "hello,ali!\n"
     ]
    }
   ],
   "source": [
    "# Exercise 2: Basic Function with a parameter\n",
    "def greet_user(name):\n",
    "    print(f'hello,{name}!')\n",
    "greet_user('ali')"
   ]
  },
  {
   "cell_type": "code",
   "execution_count": 30,
   "id": "a35bd667-5960-443d-8c0b-b67ab3907b66",
   "metadata": {},
   "outputs": [
    {
     "name": "stdout",
     "output_type": "stream",
     "text": [
      "I have a hamster.\n",
      "My hamster's name is harry.\n",
      "I have a dog.\n",
      "My dog's name is wille.\n"
     ]
    }
   ],
   "source": [
    "\n",
    "# Exercise 3: Positional vs Keyword Arguments\n",
    "def describe_pet(animal_type, pet_name):\n",
    "    print(f\"I have a {animal_type}.\")\n",
    "    print(f\"My {animal_type}'s name is {pet_name}.\")\n",
    "#positional argument\n",
    "describe_pet('hamster', 'harry')\n",
    "#keyword argument\n",
    "describe_pet(pet_name=\"wille\", animal_type=\"dog\")"
   ]
  },
  {
   "cell_type": "code",
   "execution_count": 33,
   "id": "d7ff8190-b03e-4db8-b65b-4faadfb10a43",
   "metadata": {},
   "outputs": [
    {
     "name": "stdout",
     "output_type": "stream",
     "text": [
      "I have a dog.\n",
      "My dog's name is buddy.\n",
      "I have a cat.\n",
      "My cat's name is whisker.\n"
     ]
    }
   ],
   "source": [
    "# Exercise 4: Default Parameters\n",
    "def describe_pet(pet_name, animal_type='dog'):\n",
    "    print(f\"I have a {animal_type}.\")\n",
    "    print(f\"My {animal_type}'s name is {pet_name}.\")\n",
    "    #with default\n",
    "describe_pet(\"buddy\")\n",
    "#specifying animal_type\n",
    "describe_pet(\"whisker\", animal_type=\"cat\")\n"
   ]
  },
  {
   "cell_type": "code",
   "execution_count": 35,
   "id": "fcd03c28-5f1b-43f3-9606-fc7c2166bf95",
   "metadata": {},
   "outputs": [
    {
     "name": "stdout",
     "output_type": "stream",
     "text": [
      "Sara Ali\n"
     ]
    }
   ],
   "source": [
    "# Exercise 5: Returning Formatted Name\n",
    "def get_formatted_name(first, last):\n",
    "    full_name = f\"{first} {last}\"\n",
    "    return full_name.title()\n",
    "name= get_formatted_name('sara', 'ali')\n",
    "print(name)\n"
   ]
  },
  {
   "cell_type": "code",
   "execution_count": 38,
   "id": "bc0c8268-9086-4a07-8e2f-b15da696207d",
   "metadata": {},
   "outputs": [
    {
     "name": "stdout",
     "output_type": "stream",
     "text": [
      "Sara Ali\n",
      "Sara Khan Ali\n"
     ]
    }
   ],
   "source": [
    "# Exercise 6: Optional Middle Name\n",
    "def get_formatted_name(first, last, middle=''):\n",
    "    if middle:\n",
    "        full_name = f\"{first} {middle} {last}\"\n",
    "    else:\n",
    "        full_name = f\"{first} {last}\"\n",
    "    return full_name.title()\n",
    "print(get_formatted_name(\"sara\", \"ali\"))\n",
    "print(get_formatted_name(\"sara\", \"ali\", \"khan\"))"
   ]
  },
  {
   "cell_type": "code",
   "execution_count": 39,
   "id": "37383b28-8d3c-4b94-915b-814e2a222643",
   "metadata": {},
   "outputs": [
    {
     "name": "stdout",
     "output_type": "stream",
     "text": [
      "{'first': 'sara', 'last': 'ail'}\n",
      "{'first': 'sara', 'last': 'khan', 'age': 30}\n"
     ]
    }
   ],
   "source": [
    "# Exercise 7: Returning a Dictionary\n",
    "def build_person(first, last, age=None):\n",
    "    person = {'first': first, 'last': last}\n",
    "    if age:\n",
    "        person['age'] = age\n",
    "    return person\n",
    "print(build_person('sara', 'ail'))\n",
    "print(build_person('sara', 'khan', age=30))"
   ]
  },
  {
   "cell_type": "code",
   "execution_count": 40,
   "id": "aae4ef78-baee-4548-82e2-86e145fd5207",
   "metadata": {},
   "outputs": [
    {
     "name": "stdout",
     "output_type": "stream",
     "text": [
      "Hello, Ali!\n",
      "Hello, Imran!\n",
      "Hello, Sara!\n"
     ]
    }
   ],
   "source": [
    "# Exercise 8: Greeting a List of Users\n",
    "def greet_users(usernames):\n",
    "    for name in usernames:\n",
    "        print(f\"Hello, {name.title()}!\")\n",
    "greet_users(['ali','imran','sara'])"
   ]
  },
  {
   "cell_type": "code",
   "execution_count": 41,
   "id": "a1768e64-146a-49c7-8213-05eee64833df",
   "metadata": {},
   "outputs": [
    {
     "name": "stdout",
     "output_type": "stream",
     "text": [
      "Making a pizza with the following toppings:\n",
      "- pepperoni\n",
      "- mushrooms\n",
      "- green peppers\n"
     ]
    }
   ],
   "source": [
    "# Exercise 9: Arbitrary Number of Arguments\n",
    "def make_pizza(*toppings):\n",
    "    print(\"Making a pizza with the following toppings:\")\n",
    "    for topping in toppings:\n",
    "        print(f\"- {topping}\")\n",
    "make_pizza('pepperoni','mushrooms','green peppers')"
   ]
  },
  {
   "cell_type": "code",
   "execution_count": 52,
   "id": "d5609a6d-f5a3-4ba7-aa79-5be1ee2edeb8",
   "metadata": {},
   "outputs": [
    {
     "name": "stdout",
     "output_type": "stream",
     "text": [
      "{'first': 'sara', 'last': 'imran', 'location': 'princeton', 'field': 'physics'}\n"
     ]
    }
   ],
   "source": [
    "# Exercise 10: Arbitrary Keyword Arguments\n",
    "def build_profile(first, last, **info):\n",
    "    profile = {'first': first, 'last': last}\n",
    "    profile.update(info)\n",
    "    return profile\n",
    "user_profile= build_profile('sara','imran', location='princeton', field='physics')\n",
    "print(user_profile)\n"
   ]
  },
  {
   "cell_type": "code",
   "execution_count": null,
   "id": "dc04939d-4401-4c99-8710-2e7bfc399128",
   "metadata": {},
   "outputs": [],
   "source": []
  }
 ],
 "metadata": {
  "kernelspec": {
   "display_name": "Python 3 (ipykernel)",
   "language": "python",
   "name": "python3"
  },
  "language_info": {
   "codemirror_mode": {
    "name": "ipython",
    "version": 3
   },
   "file_extension": ".py",
   "mimetype": "text/x-python",
   "name": "python",
   "nbconvert_exporter": "python",
   "pygments_lexer": "ipython3",
   "version": "3.12.7"
  }
 },
 "nbformat": 4,
 "nbformat_minor": 5
}
